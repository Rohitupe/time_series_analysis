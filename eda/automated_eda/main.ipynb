{
 "cells": [
  {
   "cell_type": "code",
   "execution_count": 1,
   "id": "f6c29bda",
   "metadata": {},
   "outputs": [
    {
     "name": "stderr",
     "output_type": "stream",
     "text": [
      "c:\\Users\\rohit\\Desktop\\coding_projects\\time_series\\eda\\automated_eda\\env\\Lib\\site-packages\\tqdm\\auto.py:21: TqdmWarning: IProgress not found. Please update jupyter and ipywidgets. See https://ipywidgets.readthedocs.io/en/stable/user_install.html\n",
      "  from .autonotebook import tqdm as notebook_tqdm\n"
     ]
    },
    {
     "data": {
      "text/html": [
       "\n",
       "            <div>\n",
       "                <ins><a href=\"https://ydata.ai/register\">Upgrade to ydata-sdk</a></ins>\n",
       "                <p>\n",
       "                    Improve your data and profiling with ydata-sdk, featuring data quality scoring, redundancy detection, outlier identification, text validation, and synthetic data generation.\n",
       "                </p>\n",
       "            </div>\n",
       "            "
      ],
      "text/plain": [
       "<IPython.core.display.HTML object>"
      ]
     },
     "metadata": {},
     "output_type": "display_data"
    }
   ],
   "source": [
    "from ydata_profiling import ProfileReport"
   ]
  },
  {
   "cell_type": "code",
   "execution_count": 2,
   "id": "a350683b",
   "metadata": {},
   "outputs": [],
   "source": [
    "import seaborn as sns # contains lots of free datasets"
   ]
  },
  {
   "cell_type": "code",
   "execution_count": 3,
   "id": "7bd7edd5",
   "metadata": {},
   "outputs": [],
   "source": [
    "df = sns.load_dataset('tips')"
   ]
  },
  {
   "cell_type": "code",
   "execution_count": 4,
   "id": "fe675731",
   "metadata": {},
   "outputs": [
    {
     "data": {
      "text/html": [
       "<div>\n",
       "<style scoped>\n",
       "    .dataframe tbody tr th:only-of-type {\n",
       "        vertical-align: middle;\n",
       "    }\n",
       "\n",
       "    .dataframe tbody tr th {\n",
       "        vertical-align: top;\n",
       "    }\n",
       "\n",
       "    .dataframe thead th {\n",
       "        text-align: right;\n",
       "    }\n",
       "</style>\n",
       "<table border=\"1\" class=\"dataframe\">\n",
       "  <thead>\n",
       "    <tr style=\"text-align: right;\">\n",
       "      <th></th>\n",
       "      <th>total_bill</th>\n",
       "      <th>tip</th>\n",
       "      <th>sex</th>\n",
       "      <th>smoker</th>\n",
       "      <th>day</th>\n",
       "      <th>time</th>\n",
       "      <th>size</th>\n",
       "    </tr>\n",
       "  </thead>\n",
       "  <tbody>\n",
       "    <tr>\n",
       "      <th>0</th>\n",
       "      <td>16.99</td>\n",
       "      <td>1.01</td>\n",
       "      <td>Female</td>\n",
       "      <td>No</td>\n",
       "      <td>Sun</td>\n",
       "      <td>Dinner</td>\n",
       "      <td>2</td>\n",
       "    </tr>\n",
       "    <tr>\n",
       "      <th>1</th>\n",
       "      <td>10.34</td>\n",
       "      <td>1.66</td>\n",
       "      <td>Male</td>\n",
       "      <td>No</td>\n",
       "      <td>Sun</td>\n",
       "      <td>Dinner</td>\n",
       "      <td>3</td>\n",
       "    </tr>\n",
       "    <tr>\n",
       "      <th>2</th>\n",
       "      <td>21.01</td>\n",
       "      <td>3.50</td>\n",
       "      <td>Male</td>\n",
       "      <td>No</td>\n",
       "      <td>Sun</td>\n",
       "      <td>Dinner</td>\n",
       "      <td>3</td>\n",
       "    </tr>\n",
       "    <tr>\n",
       "      <th>3</th>\n",
       "      <td>23.68</td>\n",
       "      <td>3.31</td>\n",
       "      <td>Male</td>\n",
       "      <td>No</td>\n",
       "      <td>Sun</td>\n",
       "      <td>Dinner</td>\n",
       "      <td>2</td>\n",
       "    </tr>\n",
       "    <tr>\n",
       "      <th>4</th>\n",
       "      <td>24.59</td>\n",
       "      <td>3.61</td>\n",
       "      <td>Female</td>\n",
       "      <td>No</td>\n",
       "      <td>Sun</td>\n",
       "      <td>Dinner</td>\n",
       "      <td>4</td>\n",
       "    </tr>\n",
       "  </tbody>\n",
       "</table>\n",
       "</div>"
      ],
      "text/plain": [
       "   total_bill   tip     sex smoker  day    time  size\n",
       "0       16.99  1.01  Female     No  Sun  Dinner     2\n",
       "1       10.34  1.66    Male     No  Sun  Dinner     3\n",
       "2       21.01  3.50    Male     No  Sun  Dinner     3\n",
       "3       23.68  3.31    Male     No  Sun  Dinner     2\n",
       "4       24.59  3.61  Female     No  Sun  Dinner     4"
      ]
     },
     "execution_count": 4,
     "metadata": {},
     "output_type": "execute_result"
    }
   ],
   "source": [
    "df.head()"
   ]
  },
  {
   "cell_type": "code",
   "execution_count": 5,
   "id": "a9aec137",
   "metadata": {},
   "outputs": [],
   "source": [
    "profile = ProfileReport(df, explorative=True)"
   ]
  },
  {
   "cell_type": "code",
   "execution_count": 6,
   "id": "e9eb6164",
   "metadata": {},
   "outputs": [
    {
     "name": "stderr",
     "output_type": "stream",
     "text": [
      "Summarize dataset:   0%|          | 0/5 [00:00<?, ?it/s]"
     ]
    },
    {
     "name": "stderr",
     "output_type": "stream",
     "text": [
      "100%|██████████| 7/7 [00:00<00:00, 640.45it/s]0<00:00, 29.94it/s, Describe variable: size]\n",
      "Summarize dataset: 100%|██████████| 25/25 [00:00<00:00, 26.83it/s, Completed]                     \n",
      "Generate report structure: 100%|██████████| 1/1 [00:01<00:00,  1.01s/it]\n",
      "Render HTML: 100%|██████████| 1/1 [00:00<00:00,  1.32it/s]\n",
      "Export report to file: 100%|██████████| 1/1 [00:00<00:00, 194.23it/s]\n"
     ]
    }
   ],
   "source": [
    "profile.to_file('output.html')"
   ]
  },
  {
   "cell_type": "code",
   "execution_count": 7,
   "id": "423978d2",
   "metadata": {},
   "outputs": [
    {
     "name": "stdout",
     "output_type": "stream",
     "text": [
      "Requirement already satisfied: dtale in c:\\users\\rohit\\desktop\\coding_projects\\time_series\\eda\\automated_eda\\env\\lib\\site-packages (3.17.0)\n",
      "Requirement already satisfied: dash-daq<=0.5.0 in c:\\users\\rohit\\desktop\\coding_projects\\time_series\\eda\\automated_eda\\env\\lib\\site-packages (from dtale) (0.5.0)\n",
      "Requirement already satisfied: future>=0.14.0 in c:\\users\\rohit\\desktop\\coding_projects\\time_series\\eda\\automated_eda\\env\\lib\\site-packages (from dtale) (1.0.0)\n",
      "Requirement already satisfied: missingno in c:\\users\\rohit\\desktop\\coding_projects\\time_series\\eda\\automated_eda\\env\\lib\\site-packages (from dtale) (0.5.2)\n",
      "Requirement already satisfied: pandas in c:\\users\\rohit\\desktop\\coding_projects\\time_series\\eda\\automated_eda\\env\\lib\\site-packages (from dtale) (2.3.0)\n",
      "Requirement already satisfied: squarify in c:\\users\\rohit\\desktop\\coding_projects\\time_series\\eda\\automated_eda\\env\\lib\\site-packages (from dtale) (0.4.4)\n",
      "Requirement already satisfied: strsimpy in c:\\users\\rohit\\desktop\\coding_projects\\time_series\\eda\\automated_eda\\env\\lib\\site-packages (from dtale) (0.2.1)\n",
      "Requirement already satisfied: six in c:\\users\\rohit\\desktop\\coding_projects\\time_series\\eda\\automated_eda\\env\\lib\\site-packages (from dtale) (1.17.0)\n",
      "Requirement already satisfied: xlrd in c:\\users\\rohit\\desktop\\coding_projects\\time_series\\eda\\automated_eda\\env\\lib\\site-packages (from dtale) (2.0.1)\n",
      "Requirement already satisfied: beautifulsoup4!=4.13.0b2 in c:\\users\\rohit\\desktop\\coding_projects\\time_series\\eda\\automated_eda\\env\\lib\\site-packages (from dtale) (4.13.4)\n",
      "Requirement already satisfied: certifi in c:\\users\\rohit\\desktop\\coding_projects\\time_series\\eda\\automated_eda\\env\\lib\\site-packages (from dtale) (2025.4.26)\n",
      "Requirement already satisfied: dash-bootstrap-components<=1.7.1 in c:\\users\\rohit\\desktop\\coding_projects\\time_series\\eda\\automated_eda\\env\\lib\\site-packages (from dtale) (1.7.1)\n",
      "Requirement already satisfied: lz4 in c:\\users\\rohit\\desktop\\coding_projects\\time_series\\eda\\automated_eda\\env\\lib\\site-packages (from dtale) (4.4.4)\n",
      "Requirement already satisfied: cycler in c:\\users\\rohit\\desktop\\coding_projects\\time_series\\eda\\automated_eda\\env\\lib\\site-packages (from dtale) (0.12.1)\n",
      "Requirement already satisfied: dash<=2.18.2 in c:\\users\\rohit\\desktop\\coding_projects\\time_series\\eda\\automated_eda\\env\\lib\\site-packages (from dtale) (2.18.2)\n",
      "Requirement already satisfied: seaborn in c:\\users\\rohit\\desktop\\coding_projects\\time_series\\eda\\automated_eda\\env\\lib\\site-packages (from dtale) (0.13.2)\n",
      "Requirement already satisfied: werkzeug in c:\\users\\rohit\\desktop\\coding_projects\\time_series\\eda\\automated_eda\\env\\lib\\site-packages (from dtale) (3.0.6)\n",
      "Requirement already satisfied: Flask-Compress in c:\\users\\rohit\\desktop\\coding_projects\\time_series\\eda\\automated_eda\\env\\lib\\site-packages (from dtale) (1.17)\n",
      "Requirement already satisfied: scikit-learn in c:\\users\\rohit\\desktop\\coding_projects\\time_series\\eda\\automated_eda\\env\\lib\\site-packages (from dtale) (1.7.0)\n",
      "Requirement already satisfied: statsmodels in c:\\users\\rohit\\desktop\\coding_projects\\time_series\\eda\\automated_eda\\env\\lib\\site-packages (from dtale) (0.14.4)\n",
      "Requirement already satisfied: networkx in c:\\users\\rohit\\desktop\\coding_projects\\time_series\\eda\\automated_eda\\env\\lib\\site-packages (from dtale) (3.5)\n",
      "Requirement already satisfied: numpy in c:\\users\\rohit\\desktop\\coding_projects\\time_series\\eda\\automated_eda\\env\\lib\\site-packages (from dtale) (2.1.3)\n",
      "Requirement already satisfied: openpyxl!=3.2.0b1 in c:\\users\\rohit\\desktop\\coding_projects\\time_series\\eda\\automated_eda\\env\\lib\\site-packages (from dtale) (3.1.5)\n",
      "Requirement already satisfied: xarray in c:\\users\\rohit\\desktop\\coding_projects\\time_series\\eda\\automated_eda\\env\\lib\\site-packages (from dtale) (2025.4.0)\n",
      "Requirement already satisfied: scipy!=1.12.0rc1,!=1.14.0,!=1.14.0rc1,!=1.14.0rc2 in c:\\users\\rohit\\desktop\\coding_projects\\time_series\\eda\\automated_eda\\env\\lib\\site-packages (from dtale) (1.15.3)\n",
      "Requirement already satisfied: et-xmlfile in c:\\users\\rohit\\desktop\\coding_projects\\time_series\\eda\\automated_eda\\env\\lib\\site-packages (from dtale) (2.0.0)\n",
      "Requirement already satisfied: plotly in c:\\users\\rohit\\desktop\\coding_projects\\time_series\\eda\\automated_eda\\env\\lib\\site-packages (from dtale) (6.1.2)\n",
      "Requirement already satisfied: Flask in c:\\users\\rohit\\desktop\\coding_projects\\time_series\\eda\\automated_eda\\env\\lib\\site-packages (from dtale) (3.0.3)\n",
      "Requirement already satisfied: itsdangerous in c:\\users\\rohit\\desktop\\coding_projects\\time_series\\eda\\automated_eda\\env\\lib\\site-packages (from dtale) (2.2.0)\n",
      "Requirement already satisfied: requests in c:\\users\\rohit\\desktop\\coding_projects\\time_series\\eda\\automated_eda\\env\\lib\\site-packages (from dtale) (2.32.3)\n",
      "Requirement already satisfied: kaleido in c:\\users\\rohit\\desktop\\coding_projects\\time_series\\eda\\automated_eda\\env\\lib\\site-packages (from dtale) (0.2.1)\n",
      "Requirement already satisfied: matplotlib in c:\\users\\rohit\\desktop\\coding_projects\\time_series\\eda\\automated_eda\\env\\lib\\site-packages (from dtale) (3.10.0)\n",
      "Requirement already satisfied: dash-html-components==2.0.0 in c:\\users\\rohit\\desktop\\coding_projects\\time_series\\eda\\automated_eda\\env\\lib\\site-packages (from dash<=2.18.2->dtale) (2.0.0)\n",
      "Requirement already satisfied: dash-core-components==2.0.0 in c:\\users\\rohit\\desktop\\coding_projects\\time_series\\eda\\automated_eda\\env\\lib\\site-packages (from dash<=2.18.2->dtale) (2.0.0)\n",
      "Requirement already satisfied: dash-table==5.0.0 in c:\\users\\rohit\\desktop\\coding_projects\\time_series\\eda\\automated_eda\\env\\lib\\site-packages (from dash<=2.18.2->dtale) (5.0.0)\n",
      "Requirement already satisfied: importlib-metadata in c:\\users\\rohit\\desktop\\coding_projects\\time_series\\eda\\automated_eda\\env\\lib\\site-packages (from dash<=2.18.2->dtale) (8.7.0)\n",
      "Requirement already satisfied: typing-extensions>=4.1.1 in c:\\users\\rohit\\desktop\\coding_projects\\time_series\\eda\\automated_eda\\env\\lib\\site-packages (from dash<=2.18.2->dtale) (4.14.0)\n",
      "Requirement already satisfied: retrying in c:\\users\\rohit\\desktop\\coding_projects\\time_series\\eda\\automated_eda\\env\\lib\\site-packages (from dash<=2.18.2->dtale) (1.3.4)\n",
      "Requirement already satisfied: nest-asyncio in c:\\users\\rohit\\desktop\\coding_projects\\time_series\\eda\\automated_eda\\env\\lib\\site-packages (from dash<=2.18.2->dtale) (1.6.0)\n",
      "Requirement already satisfied: setuptools in c:\\users\\rohit\\desktop\\coding_projects\\time_series\\eda\\automated_eda\\env\\lib\\site-packages (from dash<=2.18.2->dtale) (65.5.0)\n",
      "Requirement already satisfied: Jinja2>=3.1.2 in c:\\users\\rohit\\desktop\\coding_projects\\time_series\\eda\\automated_eda\\env\\lib\\site-packages (from Flask->dtale) (3.1.6)\n",
      "Requirement already satisfied: click>=8.1.3 in c:\\users\\rohit\\desktop\\coding_projects\\time_series\\eda\\automated_eda\\env\\lib\\site-packages (from Flask->dtale) (8.2.1)\n",
      "Requirement already satisfied: blinker>=1.6.2 in c:\\users\\rohit\\desktop\\coding_projects\\time_series\\eda\\automated_eda\\env\\lib\\site-packages (from Flask->dtale) (1.9.0)\n",
      "Requirement already satisfied: MarkupSafe>=2.1.1 in c:\\users\\rohit\\desktop\\coding_projects\\time_series\\eda\\automated_eda\\env\\lib\\site-packages (from werkzeug->dtale) (3.0.2)\n",
      "Requirement already satisfied: soupsieve>1.2 in c:\\users\\rohit\\desktop\\coding_projects\\time_series\\eda\\automated_eda\\env\\lib\\site-packages (from beautifulsoup4!=4.13.0b2->dtale) (2.7)\n",
      "Requirement already satisfied: colorama in c:\\users\\rohit\\desktop\\coding_projects\\time_series\\eda\\automated_eda\\env\\lib\\site-packages (from click>=8.1.3->Flask->dtale) (0.4.6)\n",
      "Requirement already satisfied: narwhals>=1.15.1 in c:\\users\\rohit\\desktop\\coding_projects\\time_series\\eda\\automated_eda\\env\\lib\\site-packages (from plotly->dtale) (1.41.1)\n",
      "Requirement already satisfied: packaging in c:\\users\\rohit\\desktop\\coding_projects\\time_series\\eda\\automated_eda\\env\\lib\\site-packages (from plotly->dtale) (25.0)\n",
      "Requirement already satisfied: brotli in c:\\users\\rohit\\desktop\\coding_projects\\time_series\\eda\\automated_eda\\env\\lib\\site-packages (from Flask-Compress->dtale) (1.1.0)\n",
      "Requirement already satisfied: zstandard in c:\\users\\rohit\\desktop\\coding_projects\\time_series\\eda\\automated_eda\\env\\lib\\site-packages (from Flask-Compress->dtale) (0.23.0)\n",
      "Requirement already satisfied: zipp>=3.20 in c:\\users\\rohit\\desktop\\coding_projects\\time_series\\eda\\automated_eda\\env\\lib\\site-packages (from importlib-metadata->dash<=2.18.2->dtale) (3.22.0)\n",
      "Requirement already satisfied: contourpy>=1.0.1 in c:\\users\\rohit\\desktop\\coding_projects\\time_series\\eda\\automated_eda\\env\\lib\\site-packages (from matplotlib->dtale) (1.3.2)\n",
      "Requirement already satisfied: fonttools>=4.22.0 in c:\\users\\rohit\\desktop\\coding_projects\\time_series\\eda\\automated_eda\\env\\lib\\site-packages (from matplotlib->dtale) (4.58.2)\n",
      "Requirement already satisfied: kiwisolver>=1.3.1 in c:\\users\\rohit\\desktop\\coding_projects\\time_series\\eda\\automated_eda\\env\\lib\\site-packages (from matplotlib->dtale) (1.4.8)\n",
      "Requirement already satisfied: pillow>=8 in c:\\users\\rohit\\desktop\\coding_projects\\time_series\\eda\\automated_eda\\env\\lib\\site-packages (from matplotlib->dtale) (11.2.1)\n",
      "Requirement already satisfied: pyparsing>=2.3.1 in c:\\users\\rohit\\desktop\\coding_projects\\time_series\\eda\\automated_eda\\env\\lib\\site-packages (from matplotlib->dtale) (3.2.3)\n",
      "Requirement already satisfied: python-dateutil>=2.7 in c:\\users\\rohit\\desktop\\coding_projects\\time_series\\eda\\automated_eda\\env\\lib\\site-packages (from matplotlib->dtale) (2.9.0.post0)\n",
      "Requirement already satisfied: pytz>=2020.1 in c:\\users\\rohit\\desktop\\coding_projects\\time_series\\eda\\automated_eda\\env\\lib\\site-packages (from pandas->dtale) (2025.2)\n",
      "Requirement already satisfied: tzdata>=2022.7 in c:\\users\\rohit\\desktop\\coding_projects\\time_series\\eda\\automated_eda\\env\\lib\\site-packages (from pandas->dtale) (2025.2)\n",
      "Requirement already satisfied: charset-normalizer<4,>=2 in c:\\users\\rohit\\desktop\\coding_projects\\time_series\\eda\\automated_eda\\env\\lib\\site-packages (from requests->dtale) (3.4.2)\n",
      "Requirement already satisfied: idna<4,>=2.5 in c:\\users\\rohit\\desktop\\coding_projects\\time_series\\eda\\automated_eda\\env\\lib\\site-packages (from requests->dtale) (3.10)\n",
      "Requirement already satisfied: urllib3<3,>=1.21.1 in c:\\users\\rohit\\desktop\\coding_projects\\time_series\\eda\\automated_eda\\env\\lib\\site-packages (from requests->dtale) (2.4.0)\n",
      "Requirement already satisfied: joblib>=1.2.0 in c:\\users\\rohit\\desktop\\coding_projects\\time_series\\eda\\automated_eda\\env\\lib\\site-packages (from scikit-learn->dtale) (1.5.1)\n",
      "Requirement already satisfied: threadpoolctl>=3.1.0 in c:\\users\\rohit\\desktop\\coding_projects\\time_series\\eda\\automated_eda\\env\\lib\\site-packages (from scikit-learn->dtale) (3.6.0)\n",
      "Requirement already satisfied: patsy>=0.5.6 in c:\\users\\rohit\\desktop\\coding_projects\\time_series\\eda\\automated_eda\\env\\lib\\site-packages (from statsmodels->dtale) (1.0.1)\n"
     ]
    }
   ],
   "source": [
    "!pip install dtale"
   ]
  },
  {
   "cell_type": "code",
   "execution_count": 8,
   "id": "0d6808f2",
   "metadata": {},
   "outputs": [],
   "source": [
    "import pandas as pd\n",
    "import seaborn as sns"
   ]
  },
  {
   "cell_type": "code",
   "execution_count": 9,
   "id": "72d8ef77",
   "metadata": {},
   "outputs": [],
   "source": [
    "df = sns.load_dataset(\"titanic\")"
   ]
  },
  {
   "cell_type": "code",
   "execution_count": 10,
   "id": "7babd389",
   "metadata": {},
   "outputs": [
    {
     "data": {
      "text/html": [
       "\n",
       "        <iframe\n",
       "            width=\"100%\"\n",
       "            height=\"475\"\n",
       "            src=\"http://Rohit:40000/dtale/iframe/1\"\n",
       "            frameborder=\"0\"\n",
       "            allowfullscreen\n",
       "            \n",
       "        ></iframe>\n",
       "        "
      ],
      "text/plain": [
       "<IPython.lib.display.IFrame at 0x275176d3750>"
      ]
     },
     "metadata": {},
     "output_type": "display_data"
    },
    {
     "data": {
      "text/plain": []
     },
     "execution_count": 10,
     "metadata": {},
     "output_type": "execute_result"
    }
   ],
   "source": [
    "import dtale\n",
    "dtale.show(df)"
   ]
  },
  {
   "cell_type": "code",
   "execution_count": 18,
   "id": "910a85ee",
   "metadata": {},
   "outputs": [],
   "source": [
    "!pip freeze > requirement.txt"
   ]
  },
  {
   "cell_type": "code",
   "execution_count": 12,
   "id": "af17dc93",
   "metadata": {},
   "outputs": [
    {
     "name": "stdout",
     "output_type": "stream",
     "text": [
      "Collecting sweetviz\n",
      "  Downloading sweetviz-2.3.1-py3-none-any.whl.metadata (24 kB)\n",
      "Requirement already satisfied: pandas!=1.0.0,!=1.0.1,!=1.0.2,>=0.25.3 in c:\\users\\rohit\\desktop\\coding_projects\\time_series\\eda\\automated_eda\\env\\lib\\site-packages (from sweetviz) (2.3.0)\n",
      "Requirement already satisfied: numpy>=1.16.0 in c:\\users\\rohit\\desktop\\coding_projects\\time_series\\eda\\automated_eda\\env\\lib\\site-packages (from sweetviz) (2.1.3)\n",
      "Requirement already satisfied: matplotlib>=3.1.3 in c:\\users\\rohit\\desktop\\coding_projects\\time_series\\eda\\automated_eda\\env\\lib\\site-packages (from sweetviz) (3.10.0)\n",
      "Requirement already satisfied: tqdm>=4.43.0 in c:\\users\\rohit\\desktop\\coding_projects\\time_series\\eda\\automated_eda\\env\\lib\\site-packages (from sweetviz) (4.67.1)\n",
      "Requirement already satisfied: scipy>=1.3.2 in c:\\users\\rohit\\desktop\\coding_projects\\time_series\\eda\\automated_eda\\env\\lib\\site-packages (from sweetviz) (1.15.3)\n",
      "Requirement already satisfied: jinja2>=2.11.1 in c:\\users\\rohit\\desktop\\coding_projects\\time_series\\eda\\automated_eda\\env\\lib\\site-packages (from sweetviz) (3.1.6)\n",
      "Collecting importlib-resources>=1.2.0 (from sweetviz)\n",
      "  Downloading importlib_resources-6.5.2-py3-none-any.whl.metadata (3.9 kB)\n",
      "Requirement already satisfied: MarkupSafe>=2.0 in c:\\users\\rohit\\desktop\\coding_projects\\time_series\\eda\\automated_eda\\env\\lib\\site-packages (from jinja2>=2.11.1->sweetviz) (3.0.2)\n",
      "Requirement already satisfied: contourpy>=1.0.1 in c:\\users\\rohit\\desktop\\coding_projects\\time_series\\eda\\automated_eda\\env\\lib\\site-packages (from matplotlib>=3.1.3->sweetviz) (1.3.2)\n",
      "Requirement already satisfied: cycler>=0.10 in c:\\users\\rohit\\desktop\\coding_projects\\time_series\\eda\\automated_eda\\env\\lib\\site-packages (from matplotlib>=3.1.3->sweetviz) (0.12.1)\n",
      "Requirement already satisfied: fonttools>=4.22.0 in c:\\users\\rohit\\desktop\\coding_projects\\time_series\\eda\\automated_eda\\env\\lib\\site-packages (from matplotlib>=3.1.3->sweetviz) (4.58.2)\n",
      "Requirement already satisfied: kiwisolver>=1.3.1 in c:\\users\\rohit\\desktop\\coding_projects\\time_series\\eda\\automated_eda\\env\\lib\\site-packages (from matplotlib>=3.1.3->sweetviz) (1.4.8)\n",
      "Requirement already satisfied: packaging>=20.0 in c:\\users\\rohit\\desktop\\coding_projects\\time_series\\eda\\automated_eda\\env\\lib\\site-packages (from matplotlib>=3.1.3->sweetviz) (25.0)\n",
      "Requirement already satisfied: pillow>=8 in c:\\users\\rohit\\desktop\\coding_projects\\time_series\\eda\\automated_eda\\env\\lib\\site-packages (from matplotlib>=3.1.3->sweetviz) (11.2.1)\n",
      "Requirement already satisfied: pyparsing>=2.3.1 in c:\\users\\rohit\\desktop\\coding_projects\\time_series\\eda\\automated_eda\\env\\lib\\site-packages (from matplotlib>=3.1.3->sweetviz) (3.2.3)\n",
      "Requirement already satisfied: python-dateutil>=2.7 in c:\\users\\rohit\\desktop\\coding_projects\\time_series\\eda\\automated_eda\\env\\lib\\site-packages (from matplotlib>=3.1.3->sweetviz) (2.9.0.post0)\n",
      "Requirement already satisfied: pytz>=2020.1 in c:\\users\\rohit\\desktop\\coding_projects\\time_series\\eda\\automated_eda\\env\\lib\\site-packages (from pandas!=1.0.0,!=1.0.1,!=1.0.2,>=0.25.3->sweetviz) (2025.2)\n",
      "Requirement already satisfied: tzdata>=2022.7 in c:\\users\\rohit\\desktop\\coding_projects\\time_series\\eda\\automated_eda\\env\\lib\\site-packages (from pandas!=1.0.0,!=1.0.1,!=1.0.2,>=0.25.3->sweetviz) (2025.2)\n",
      "Requirement already satisfied: six>=1.5 in c:\\users\\rohit\\desktop\\coding_projects\\time_series\\eda\\automated_eda\\env\\lib\\site-packages (from python-dateutil>=2.7->matplotlib>=3.1.3->sweetviz) (1.17.0)\n",
      "Requirement already satisfied: colorama in c:\\users\\rohit\\desktop\\coding_projects\\time_series\\eda\\automated_eda\\env\\lib\\site-packages (from tqdm>=4.43.0->sweetviz) (0.4.6)\n",
      "Downloading sweetviz-2.3.1-py3-none-any.whl (15.1 MB)\n",
      "   ---------------------------------------- 0.0/15.1 MB ? eta -:--:--\n",
      "   -- ------------------------------------- 0.8/15.1 MB 5.6 MB/s eta 0:00:03\n",
      "   ---- ----------------------------------- 1.8/15.1 MB 4.6 MB/s eta 0:00:03\n",
      "   ------ --------------------------------- 2.4/15.1 MB 4.2 MB/s eta 0:00:04\n",
      "   -------- ------------------------------- 3.1/15.1 MB 3.9 MB/s eta 0:00:04\n",
      "   --------- ------------------------------ 3.7/15.1 MB 3.6 MB/s eta 0:00:04\n",
      "   ----------- ---------------------------- 4.2/15.1 MB 3.4 MB/s eta 0:00:04\n",
      "   ------------- -------------------------- 5.2/15.1 MB 3.6 MB/s eta 0:00:03\n",
      "   ---------------- ----------------------- 6.3/15.1 MB 3.8 MB/s eta 0:00:03\n",
      "   ------------------ --------------------- 7.1/15.1 MB 3.8 MB/s eta 0:00:03\n",
      "   -------------------- ------------------- 7.9/15.1 MB 3.9 MB/s eta 0:00:02\n",
      "   ---------------------- ----------------- 8.7/15.1 MB 3.9 MB/s eta 0:00:02\n",
      "   ------------------------- -------------- 9.7/15.1 MB 3.9 MB/s eta 0:00:02\n",
      "   --------------------------- ------------ 10.5/15.1 MB 4.0 MB/s eta 0:00:02\n",
      "   ------------------------------ --------- 11.5/15.1 MB 4.0 MB/s eta 0:00:01\n",
      "   ------------------------------- -------- 12.1/15.1 MB 4.0 MB/s eta 0:00:01\n",
      "   --------------------------------- ------ 12.6/15.1 MB 3.8 MB/s eta 0:00:01\n",
      "   ----------------------------------- ---- 13.4/15.1 MB 3.8 MB/s eta 0:00:01\n",
      "   ------------------------------------- -- 14.2/15.1 MB 3.9 MB/s eta 0:00:01\n",
      "   -------------------------------------- - 14.7/15.1 MB 3.8 MB/s eta 0:00:01\n",
      "   -------------------------------------- - 14.7/15.1 MB 3.8 MB/s eta 0:00:01\n",
      "   -------------------------------------- - 14.7/15.1 MB 3.8 MB/s eta 0:00:01\n",
      "   ---------------------------------------  14.9/15.1 MB 3.4 MB/s eta 0:00:01\n",
      "   ---------------------------------------- 15.1/15.1 MB 3.3 MB/s eta 0:00:00\n",
      "Downloading importlib_resources-6.5.2-py3-none-any.whl (37 kB)\n",
      "Installing collected packages: importlib-resources, sweetviz\n",
      "\n",
      "   ---------------------------------------- 0/2 [importlib-resources]\n",
      "   ---------------------------------------- 0/2 [importlib-resources]\n",
      "   ---------------------------------------- 0/2 [importlib-resources]\n",
      "   ---------------------------------------- 0/2 [importlib-resources]\n",
      "   ---------------------------------------- 0/2 [importlib-resources]\n",
      "   -------------------- ------------------- 1/2 [sweetviz]\n",
      "   -------------------- ------------------- 1/2 [sweetviz]\n",
      "   -------------------- ------------------- 1/2 [sweetviz]\n",
      "   -------------------- ------------------- 1/2 [sweetviz]\n",
      "   -------------------- ------------------- 1/2 [sweetviz]\n",
      "   -------------------- ------------------- 1/2 [sweetviz]\n",
      "   ---------------------------------------- 2/2 [sweetviz]\n",
      "\n",
      "Successfully installed importlib-resources-6.5.2 sweetviz-2.3.1\n"
     ]
    }
   ],
   "source": [
    "!pip install sweetviz"
   ]
  },
  {
   "cell_type": "code",
   "execution_count": 15,
   "id": "377fb9bc",
   "metadata": {},
   "outputs": [
    {
     "data": {
      "text/plain": [
       "numpy.exceptions.VisibleDeprecationWarning"
      ]
     },
     "execution_count": 15,
     "metadata": {},
     "output_type": "execute_result"
    }
   ],
   "source": [
    "import numpy\n",
    "numpy.exceptions.VisibleDeprecationWarning"
   ]
  },
  {
   "cell_type": "code",
   "execution_count": null,
   "id": "10f7f48f",
   "metadata": {},
   "outputs": [],
   "source": [
    "import sweetviz as sv\n",
    "\n",
    "report = sv.analyze(df)\n",
    "report.show_html('new_report')\n",
    "\n",
    "# there is some issue with the numpy version when using the sweeetviz, so this needs reinstallation of the numpy library"
   ]
  },
  {
   "cell_type": "code",
   "execution_count": null,
   "id": "df745999",
   "metadata": {},
   "outputs": [],
   "source": []
  }
 ],
 "metadata": {
  "kernelspec": {
   "display_name": "env",
   "language": "python",
   "name": "python3"
  },
  "language_info": {
   "codemirror_mode": {
    "name": "ipython",
    "version": 3
   },
   "file_extension": ".py",
   "mimetype": "text/x-python",
   "name": "python",
   "nbconvert_exporter": "python",
   "pygments_lexer": "ipython3",
   "version": "3.11.9"
  }
 },
 "nbformat": 4,
 "nbformat_minor": 5
}
